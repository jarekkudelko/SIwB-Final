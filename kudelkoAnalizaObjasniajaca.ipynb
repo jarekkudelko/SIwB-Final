{
 "cells": [
  {
   "cell_type": "markdown",
   "metadata": {},
   "source": [
    "# Analiza objaśniająca zbioru Titanic"
   ]
  },
  {
   "cell_type": "markdown",
   "metadata": {},
   "source": [
    "## Wstęp"
   ]
  },
  {
   "cell_type": "markdown",
   "metadata": {},
   "source": [
    "RMS Titanic, brytyjski statek pasażerski kursujący pamiędzy USA i Europą. Z nocy 14 na 15 kwietnia\n",
    "1912 roku, podczas pierwszego rejsu, zderzył się z górą lodową i zatonął. Tragiczna katastrofa, w wyniku\n",
    "której zginęło ponad 1500 osób, wpłynęła w znacznym stopniu na nowelizację i poprawę zasad bezpieczeństwa\n",
    "morskiego. Ponadto w wyniku opublikowania raportu Amerykańskiej Komisji śledczej, doszło do przesunięcia\n",
    "szlaku żeglugowego na północnym Atlantyku o 60 mil na południe."
   ]
  },
  {
   "cell_type": "markdown",
   "metadata": {},
   "source": [
    "### Cel opracowania"
   ]
  },
  {
   "cell_type": "markdown",
   "metadata": {},
   "source": [
    "Celem opracowania nie jest sprawdzenie jakie działania mogły zapobiec katastrofie Titanica, czy ograniczyć zakres zebranego przez nią rzniwa. Jest nim natomiast odpowiedzenie na pytanie, kto miał największe, a kto najmniejsze szanse na przetrwanie. "
   ]
  },
  {
   "cell_type": "markdown",
   "metadata": {},
   "source": [
    "## Analiza zbioru"
   ]
  },
  {
   "cell_type": "markdown",
   "metadata": {},
   "source": [
    "Importujemy zbiór danych, w którym wszystkie puste pola przyjmą wartość NA."
   ]
  },
  {
   "cell_type": "code",
   "execution_count": null,
   "metadata": {},
   "outputs": [],
   "source": [
    "titanic <- read.csv(\"Titanic.csv\", na.strings=c(\"\",\"NA\"))"
   ]
  },
  {
   "cell_type": "markdown",
   "metadata": {},
   "source": [
    "<br>Wyświetlamy statystykę podsumowującą w celu zapoznania się ze zbiorem."
   ]
  },
  {
   "cell_type": "code",
   "execution_count": null,
   "metadata": {},
   "outputs": [],
   "source": [
    "summary(titanic)"
   ]
  },
  {
   "cell_type": "markdown",
   "metadata": {},
   "source": [
    "<br>"
   ]
  },
  {
   "cell_type": "markdown",
   "metadata": {},
   "source": [
    "Zbiór składa się z jedenastu atrybutów opisujących pasażerów statku:\n",
    "<ul>\n",
    "    <li><b>PassengerId</b> - identyfikator</li>\n",
    "    <li><b>Pclass</b> - klasa podróżnicza, przyjmująca wartości: <i>1, 2, 3</i></li>\n",
    "    <li><b>Name</b> - imie</li>\n",
    "    <li><b>Sex</b> - płeć, przyjmująca wartości: <i>male, female</i></li>\n",
    "    <li><b>Age</b> - wiek</li>\n",
    "    <li><b>SibSp</b> - ilość rodzeństwa/ małżonków na statku</li>\n",
    "    <li><b>Parch</b> - ilość rodziców/ dzieci na statku</li>\n",
    "    <li><b>Ticket</b> - kod biletu</li>\n",
    "    <li><b>Fare</b> - opłata za przeprawę</li>\n",
    "    <li><b>Cabin</b> - numer kabiny</li>\n",
    "    <li><b>Embarked</b> - port startowy, przyjmujący wartości: <i>S, C, Q</i></li>\n",
    "</ul>\n",
    "Oraz atrybutu decyzyjnego:\n",
    "<ul>\n",
    "    <li><b>Survived</b> - przetrwanie, przyjmujące wartości: <i>0, 1</i></li>\n",
    "</ul>"
   ]
  },
  {
   "cell_type": "markdown",
   "metadata": {},
   "source": [
    "<br>Sprawdzimy jak prezentują się brakujące wartości w zbiorze."
   ]
  },
  {
   "cell_type": "code",
   "execution_count": null,
   "metadata": {},
   "outputs": [],
   "source": [
    "library(Amelia)\n",
    "missmap(titanic, col=c(\"black\",\"grey\"), main = \"Mapa brakujących wartości\")"
   ]
  },
  {
   "cell_type": "markdown",
   "metadata": {
    "jupyter": {
     "outputs_hidden": true
    }
   },
   "source": [
    "Kolumna <b>Cabin</b> zawiera bardzo dużo pustych wartości, co oznacza, że nie będzie rzetelnym wyznacznikiem szans przeżycia na Titanicu. Zostanie usnięta razem z <b>PassengerId, Name i Ticket</b> które równie niewiele wniosą w dalszą analizę."
   ]
  },
  {
   "cell_type": "code",
   "execution_count": null,
   "metadata": {},
   "outputs": [],
   "source": [
    "library(dplyr)\n",
    "titanic <- select(titanic, Survived, Age, Sex, SibSp, Parch, Pclass, Fare, Embarked)"
   ]
  },
  {
   "cell_type": "markdown",
   "metadata": {},
   "source": [
    "<br>Usuwamy wsztstkie wiersze z brakującymi wartościami atrybutu <b>Age</b>."
   ]
  },
  {
   "cell_type": "code",
   "execution_count": null,
   "metadata": {},
   "outputs": [],
   "source": [
    "titanic <- na.omit(titanic)"
   ]
  },
  {
   "cell_type": "markdown",
   "metadata": {},
   "source": [
    "<br>Przed przejściem do wizualizacji, przyglądamy się strukturze danych."
   ]
  },
  {
   "cell_type": "code",
   "execution_count": null,
   "metadata": {},
   "outputs": [],
   "source": [
    "str(titanic)"
   ]
  },
  {
   "cell_type": "markdown",
   "metadata": {},
   "source": [
    "<br>Kolumny <b>Survived, Sex i Pclass</b> zostaną potraktowane jako zmienne kategoryzujące."
   ]
  },
  {
   "cell_type": "code",
   "execution_count": null,
   "metadata": {},
   "outputs": [],
   "source": [
    "titanic$Survived <- factor(titanic$Survived)\n",
    "titanic$Sex <- factor(titanic$Sex)\n",
    "titanic$Pclass <- factor(titanic$Pclass, order=TRUE, levels = c(3, 2, 1))"
   ]
  },
  {
   "cell_type": "markdown",
   "metadata": {},
   "source": [
    "### Wizualizacja danych"
   ]
  },
  {
   "cell_type": "markdown",
   "metadata": {},
   "source": [
    "W pierwszej kolejności sprawdzimy korelacje między atrybutami numerycznymi."
   ]
  },
  {
   "cell_type": "code",
   "execution_count": null,
   "metadata": {},
   "outputs": [],
   "source": [
    "library(GGally)\n",
    "ggcorr(titanic,nbreaks = 6,label = TRUE,label_size = 4,color = \"black\")"
   ]
  },
  {
   "cell_type": "markdown",
   "metadata": {},
   "source": [
    "Najsilniejsza korelacja występuje między atrybutem <b>SibSp i Parch</b>, co sugeruje, że rodziny podróżowały razem."
   ]
  },
  {
   "cell_type": "code",
   "execution_count": null,
   "metadata": {},
   "outputs": [],
   "source": [
    "library(ggplot2)\n",
    "ggplot(titanic, aes(x = Survived, fill=Sex)) + \n",
    "geom_bar(position = position_dodge()) +\n",
    "geom_text(stat='count', aes(label=stat(count)),\n",
    "position = position_dodge(width=1), vjust=-0.3) +\n",
    "xlab(\"Przetrwanie\") + ylab(\"Liczba pasażerów\") +\n",
    "labs(title = \"Przetrwanie na Titanicu wg. płci\",\n",
    "caption = \"1 - przetrwanie, 0 - śmierć \") +\n",
    "theme_classic()\n"
   ]
  },
  {
   "cell_type": "markdown",
   "metadata": {},
   "source": [
    "O wiele większe prawdopodobieństwo na przetrwanie katastrofy Titanica miały kobiety niż mężczyźni."
   ]
  },
  {
   "cell_type": "code",
   "execution_count": null,
   "metadata": {},
   "outputs": [],
   "source": [
    "ggplot(titanic, aes(x = Survived, fill=Pclass)) +\n",
    "geom_bar(position = position_dodge()) +\n",
    "geom_text(stat='count', aes(label=stat(count)),\n",
    "position = position_dodge(width=1), vjust=-0.3) +\n",
    "xlab(\"Przetrwanie\") + ylab(\"Liczba pasażerów\") +\n",
    "labs(title = \"Przetrwanie na Titanicu wg. klasy\",\n",
    "caption = \"1 - przetrwanie, 0 - śmierć \") +\n",
    "theme_classic()\n"
   ]
  },
  {
   "cell_type": "markdown",
   "metadata": {},
   "source": [
    "Największe prawdopodobieństwo przetrwania katastrofy miały osoby podróżujące pierwszą klasą."
   ]
  },
  {
   "cell_type": "code",
   "execution_count": null,
   "metadata": {},
   "outputs": [],
   "source": [
    "ggplot(titanic, aes(x = Age)) +\n",
    "geom_density(fill='dodgerblue3') +\n",
    "xlab(\"Wiek\") + ylab(\"Gęstość\") +\n",
    "labs(title = \"Rozkład wieku pasażerów na Titanicu\") +\n",
    "theme_minimal()"
   ]
  },
  {
   "cell_type": "markdown",
   "metadata": {},
   "source": [
    "Większością pasażerów Titanica były osoby dorosłe w przedziale wiekowym 20-40 lat."
   ]
  },
  {
   "cell_type": "code",
   "execution_count": null,
   "metadata": {},
   "outputs": [],
   "source": [
    "titanic$Discretized.age = cut(titanic$Age, c(0,10,20,30,40,50,60,70,80,100))\n",
    "ggplot(titanic, aes(x = Discretized.age, fill=Survived)) +\n",
    "geom_bar(position = position_dodge()) +\n",
    "geom_text(stat='count', aes(label=stat(count)),\n",
    "position = position_dodge(width=1), vjust=-0.3)+\n",
    "xlab(\"Przedział wiekowy\") + ylab(\"Liczba pasażerów\") +\n",
    "labs(title = \"Zawartość grup wiekowych na Titanicu\") +\n",
    "theme_classic()"
   ]
  },
  {
   "cell_type": "markdown",
   "metadata": {},
   "source": [
    "Najczęściej ratowaną grupą wiekową na Titanicu były dzieci przed dziesiątym rokiem życia."
   ]
  },
  {
   "cell_type": "markdown",
   "metadata": {},
   "source": [
    "## Wnioski"
   ]
  },
  {
   "cell_type": "markdown",
   "metadata": {},
   "source": [
    "- Katastrofę przetrwało 288 z 712 osób, prawie dwóch na trzech pasażerów nigdy nie dotarło do Nowego Yorku. \n",
    "- Sześć na siedem ofiar stanowili mężczyźni.\n",
    "- Spośród 288 ocalonych połową były kobiety. \n",
    "- Największą śmiertelnością cechowała się trzecia klasa - trzy na cztery osoby, za nią klasa druga - jedna na dwie, i pierwsza - jedna na trzy.\n",
    "- Większością pasażerów były osoby miedzy 20 a 40 rokiem życia. \n",
    "- <b>Najwyższą szansę na przetrwanie miały dzieci przed 10 rokiem życia - prawie 60%, najniższą dorośli między 20 a 30 - okolice 35%.</b>"
   ]
  },
  {
   "cell_type": "code",
   "execution_count": null,
   "metadata": {},
   "outputs": [],
   "source": []
  }
 ],
 "metadata": {
  "kernelspec": {
   "display_name": "R",
   "language": "R",
   "name": "ir"
  },
  "language_info": {
   "codemirror_mode": "r",
   "file_extension": ".r",
   "mimetype": "text/x-r-source",
   "name": "R",
   "pygments_lexer": "r",
   "version": "3.6.1"
  }
 },
 "nbformat": 4,
 "nbformat_minor": 4
}
